{
 "cells": [
  {
   "cell_type": "code",
   "execution_count": 42,
   "id": "ffee8c5b",
   "metadata": {},
   "outputs": [
    {
     "name": "stdout",
     "output_type": "stream",
     "text": [
      "가장 많이 접종된 날: 2020-12-03\n",
      "가장 많이 접종된 날: 2020-12-03\n"
     ]
    }
   ],
   "source": [
    "import csv\n",
    "f = open('country_vaccinations.csv','r',encoding='cp949')\n",
    "data = csv.reader(f,delimiter=',')\n",
    "header = next(data)\n",
    "\n",
    "max_vac = -99999999999.0\n",
    "max_data = ''\n",
    "\n",
    "min_vac = 9999999999.0\n",
    "min_data = ''\n",
    "\n",
    "dic = {}\n",
    "for row in data:\n",
    "    if row[5] == '': \n",
    "        row[5] = 0\n",
    "    row[5] = float(row[5])\n",
    "    if row[2] in dic:\n",
    "        dic[row[2]] += row[5]\n",
    "    else:\n",
    "        dic[row[2]] = row[5]\n",
    "\n",
    "for d in dic:\n",
    "    num = int(dic[d])\n",
    "    if max_vac < dic[d]:\n",
    "        max_data = d\n",
    "        \n",
    "    if min_vac > dic[d]:\n",
    "        min_data = d\n",
    "        \n",
    "print(\"가장 많이 접종된 날: {0:s}\".format(max_data))\n",
    "print(\"가장 많이 접종된 날: {0:s}\".format(min_data))\n",
    "\n",
    "\n"
   ]
  },
  {
   "cell_type": "code",
   "execution_count": 49,
   "id": "6e90f1e9",
   "metadata": {},
   "outputs": [],
   "source": [
    "import csv\n",
    "f = open('country_vaccinations.csv','r',encoding='cp949')\n",
    "data = csv.reader(f,delimiter=',')\n",
    "header = next(data)\n",
    "\n",
    "dic = {}\n",
    "for row in data:\n",
    "    if row[10] == '':\n",
    "        row[10] = \"-\"\n",
    "    \n",
    "    if row[0] == '':\n",
    "        row[0] = \"-\"\n",
    "    \n",
    "    if row[10] in dic:\n",
    "        a = 10\n",
    "    else:\n",
    "        dic[row[10]] = []\n",
    "    \n",
    "    if row[0] in dic[row[10]]:\n",
    "        a = 10\n",
    "    else:\n",
    "        dic[row[10]].append[row[0]]\n",
    "\n",
    "\n",
    "    \n",
    "    "
   ]
  },
  {
   "cell_type": "code",
   "execution_count": null,
   "id": "b35c283b",
   "metadata": {},
   "outputs": [],
   "source": []
  }
 ],
 "metadata": {
  "kernelspec": {
   "display_name": "Python 3 (ipykernel)",
   "language": "python",
   "name": "python3"
  },
  "language_info": {
   "codemirror_mode": {
    "name": "ipython",
    "version": 3
   },
   "file_extension": ".py",
   "mimetype": "text/x-python",
   "name": "python",
   "nbconvert_exporter": "python",
   "pygments_lexer": "ipython3",
   "version": "3.10.4"
  }
 },
 "nbformat": 4,
 "nbformat_minor": 5
}
